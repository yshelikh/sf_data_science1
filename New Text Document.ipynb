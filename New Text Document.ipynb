{
 "cells": [
  {
   "cell_type": "code",
   "execution_count": 5,
   "metadata": {},
   "outputs": [
    {
     "name": "stdout",
     "output_type": "stream",
     "text": [
      "(2.1360009363293826, 2.692582403567252, 4.422951503238533, 9.251534843135168, 2.1250000000000027)\n"
     ]
    }
   ],
   "source": [
    "def triangle(p1,p2,p3):\n",
    "    side_a = ((p1[0]-p2[0])**2 + (p1[1]-p2[1])**2)**(1/2)\n",
    "    side_b = ((p1[0]-p3[0])**2 + (p1[1]-p3[1])**2)**(1/2)\n",
    "    side_c = ((p2[0]-p3[0])**2 + (p2[1]-p3[1])**2)**(1/2)\n",
    "    perimetr = side_a + side_b + side_c\n",
    "    p = perimetr/2\n",
    "    area = (p * (p-side_a) * (p - side_b) * (p - side_c)) **(1/2)\n",
    "    return side_a, side_b, side_c, perimetr, area\n",
    "print(triangle(p1 = (2,2), p2 = (4, 1.25), p3= (1, 4.5)))"
   ]
  },
  {
   "cell_type": "code",
   "execution_count": null,
   "metadata": {},
   "outputs": [],
   "source": [
    "\n",
    "n = 10\n",
    "z = n\n",
    "n = 5"
   ]
  }
 ],
 "metadata": {
  "kernelspec": {
   "display_name": "Python 3",
   "language": "python",
   "name": "python3"
  },
  "language_info": {
   "codemirror_mode": {
    "name": "ipython",
    "version": 3
   },
   "file_extension": ".py",
   "mimetype": "text/x-python",
   "name": "python",
   "nbconvert_exporter": "python",
   "pygments_lexer": "ipython3",
   "version": "3.9.11"
  }
 },
 "nbformat": 4,
 "nbformat_minor": 2
}
